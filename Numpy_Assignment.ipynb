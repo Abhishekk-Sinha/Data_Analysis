{
  "nbformat": 4,
  "nbformat_minor": 0,
  "metadata": {
    "colab": {
      "provenance": []
    },
    "kernelspec": {
      "name": "python3",
      "display_name": "Python 3"
    },
    "language_info": {
      "name": "python"
    }
  },
  "cells": [
    {
      "cell_type": "markdown",
      "source": [
        "1. What is a Python library? Why do we use Python libraries?\n"
      ],
      "metadata": {
        "id": "aERpszZrEoeH"
      }
    },
    {
      "cell_type": "markdown",
      "source": [
        "- **ANS. **\n",
        "- The Python Standard Library contains the exact syntax, semantics, and tokens of Python. It contains built-in modules that provide access to basic system functionality like I/O and some other core modules. Most of the Python Libraries are written in the C programming language. The Python standard library consists of more than 200 core modules. All these work together to make Python a high-level programming language. Python Standard Library plays a very important role. Without it, the programmers can’t have access to the functionalities of Python. But other than this, there are several other libraries in Python that make a programmer’s life easier.\n",
        "1. TensorFlow: This library was developed by Google in collaboration with the Brain Team. It is an open-source library used for high-level computations. It is also used in machine learning and deep learning algorithms. It contains a large number of tensor operations. Researchers also use this Python library to solve complex computations in Mathematics and Physics.\n",
        "2. Matplotlib: This library is responsible for plotting numerical data. And that’s why it is used in data analysis. It is also an open-source library and plots high-defined figures like pie charts, histograms, scatterplots, graphs, etc.\n",
        "3. Pandas: Pandas are an important library for data scientists. It is an open-source machine learning library that provides flexible high-level data structures and a variety of analysis tools. It eases data analysis, data manipulation, and cleaning of data. Pandas support operations like Sorting, Re-indexing, Iteration, Concatenation, Conversion of data, Visualizations, Aggregations, etc.\n",
        "4. Numpy: The name “Numpy” stands for “Numerical Python”. It is the commonly used library. It is a popular machine learning library that supports large matrices and multi-dimensional data. It consists of in-built mathematical functions for easy computations. Even libraries like TensorFlow use Numpy internally to perform several operations on tensors. Array Interface is one of the key features of this library.\n",
        "\n",
        "5. SciPy: The name “SciPy” stands for “Scientific Python”. It is an open-source library used for high-level scientific computations. This library is built over an extension of Numpy. It works with Numpy to handle complex computations. While Numpy allows sorting and indexing of array data, the numerical data code is stored in SciPy. It is also widely used by application developers and engineers.\n",
        "6. Scrapy: It is an open-source library that is used for extracting data from websites. It provides very fast web crawling and high-level screen scraping. It can also be used for data mining and automated testing of data.\n",
        "7. Scikit-learn: It is a famous Python library to work with complex data. Scikit-learn is an open-source library that supports machine learning. It supports variously supervised and unsupervised algorithms like linear regression, classification, clustering, etc. This library works in association with Numpy and SciPy.\n",
        "\n",
        "8. PyGame: This library provides an easy interface to the Standard Directmedia Library (SDL) platform-independent graphics, audio, and input libraries. It is used for developing video games using computer graphics and audio libraries along with Python programming language.\n",
        "\n",
        "9. PyTorch: PyTorch is the largest machine learning library that optimizes tensor computations. It has rich APIs to perform tensor computations with strong GPU acceleration. It also helps to solve application issues related to neural networks.\n",
        "\n",
        "10. PyBrain: The name “PyBrain” stands for Python Based Reinforcement Learning, Artificial Intelligence, and Neural Networks library. It is an open-source library built for beginners in the field of Machine Learning. It provides fast and easy-to-use algorithms for machine learning tasks. It is so flexible and easily understandable and that’s why is really helpful for developers that are new in research fields.\n",
        "\n",
        "\n",
        "Use of Libraries in Python Program\n",
        "As we write large-size programs in Python, we want to maintain the code’s modularity. For the easy maintenance of the code, we split the code into different parts and we can use that code later ever we need it. In Python, modules play that part. Instead of using the same code in different programs and making the code complex, we define mostly used functions in modules and we can just simply import them in a program wherever there is a requirement. We don’t need to write that code but still, we can use its functionality by importing its module. Multiple interrelated modules are stored in a library. And whenever we need to use a module, we import it from its library. In Python, it’s a very simple job to do due to its easy syntax. We just need to use import."
      ],
      "metadata": {
        "id": "7wUpUNBVnQcO"
      }
    },
    {
      "cell_type": "markdown",
      "source": [
        "2. What is the difference between Numpy array and List?\n",
        "\n"
      ],
      "metadata": {
        "id": "XC6DEy1om4oP"
      }
    },
    {
      "cell_type": "markdown",
      "source": [
        "NumPy is the fundamental package for scientific computing in Python. Numpy arrays facilitate advanced mathematical and other types of operations on large numbers of data. Typically, such operations are executed more efficiently and with less code than is possible using Python’s built-in sequences. Numpy is not another programming language but a Python extension module. It provides fast and efficient operations on arrays of homogeneous data.\n",
        "\n",
        "Some important points about Numpy arrays:\n",
        "\n",
        "We can create an N-dimensional array in Python using Numpy.array().\n",
        "The array is by default Homogeneous, which means data inside an array must be of the same Datatype. (Note You can also create a structured array in Python).\n",
        "Element-wise operation is possible.\n",
        "Numpy array has various functions, methods, and variables, to ease our task of matrix computation.\n",
        "Elements of an array are stored contiguously in memory. For example, all rows of a two-dimensioned array must have the same number of columns. A three-dimensional array must have the same number of rows and columns on each card.\n",
        "Representation of Numpy array\n",
        "Single Dimensional Numpy Array\n",
        "\n",
        "\n",
        "\n",
        "\n",
        "\n",
        "-A Python list is a collection that is ordered and changeable. In Python, lists are written with square brackets.\n",
        "\n",
        "Some important points about Python Lists:\n",
        "\n",
        "The list can be homogeneous or heterogeneous.\n",
        "Element-wise operation is not possible on the list.\n",
        "Python list is by default 1-dimensional. But we can create an N-Dimensional list. But then too it will be 1 D list storing another 1D list\n",
        "Elements of a list need not be contiguous in memory.\n",
        "Below are some examples which clearly demonstrate how Numpy arrays are better than Python lists by analyzing the memory consumption, execution time comparison, and operations supported by both of them."
      ],
      "metadata": {
        "id": "G_KxLqUatqeL"
      }
    },
    {
      "cell_type": "markdown",
      "source": [
        "3. Find the shape, size and dimension of the following array?\n",
        "[[1, 2, 3, 4]\n",
        "[5, 6, 7, 8],\n",
        "[9, 10, 11, 12]]\n"
      ],
      "metadata": {
        "id": "iIkZtAJjErt1"
      }
    },
    {
      "cell_type": "code",
      "source": [
        "import numpy as np\n",
        "\n",
        "array = np.array([[1, 2, 3, 4], [5, 6, 7, 8], [9, 10, 11, 12]])\n",
        "\n",
        "# Shape\n",
        "shape = array.shape\n",
        "\n",
        "# Size\n",
        "size = array.size\n",
        "\n",
        "# Dimensions\n",
        "dimensions = array.ndim\n",
        "\n",
        "#Driver Code\n",
        "print(\"Shape:\", shape)\n",
        "print(\"Size:\", size)\n",
        "print(\"Dimensions:\", dimensions)\n"
      ],
      "metadata": {
        "colab": {
          "base_uri": "https://localhost:8080/"
        },
        "id": "jCtxdk8jm-I_",
        "outputId": "d16027a0-7a7c-4331-8548-eed6b4cb7a2f"
      },
      "execution_count": null,
      "outputs": [
        {
          "output_type": "stream",
          "name": "stdout",
          "text": [
            "Shape: (3, 4)\n",
            "Size: 12\n",
            "Dimensions: 2\n"
          ]
        }
      ]
    },
    {
      "cell_type": "markdown",
      "source": [
        "4. Write python code to access the first row of the following array?\n",
        "[[1, 2, 3, 4]\n",
        "[5, 6, 7, 8],\n",
        "[9, 10, 11, 12]]\n"
      ],
      "metadata": {
        "id": "IUMO0SJhnERx"
      }
    },
    {
      "cell_type": "code",
      "source": [
        "import numpy as np\n",
        "\n",
        "array = np.array([[1, 2, 3, 4], [5, 6, 7, 8], [9, 10, 11, 12]])\n",
        "\n",
        "# Using indexing we access the 1st row of the array.\n",
        "first_row = array[0]\n",
        "\n",
        "# Using print func., Display the 1st row element\n",
        "print(\"First row:\", first_row)\n",
        "\n"
      ],
      "metadata": {
        "colab": {
          "base_uri": "https://localhost:8080/"
        },
        "id": "TVw84bTPxtDB",
        "outputId": "bf1c9b1e-3468-4fe8-b02d-95e5d610ee3e"
      },
      "execution_count": null,
      "outputs": [
        {
          "output_type": "stream",
          "name": "stdout",
          "text": [
            "First row: [1 2 3 4]\n"
          ]
        }
      ]
    },
    {
      "cell_type": "markdown",
      "source": [
        "5. How do you access the element at the third row and fourth column from the given numpy array?\n",
        "[[1, 2, 3, 4]\n",
        "[5, 6, 7, 8],\n",
        "[9, 10, 11, 12]]\n"
      ],
      "metadata": {
        "id": "tYFUVOKfxqxX"
      }
    },
    {
      "cell_type": "code",
      "source": [
        "arr = np.array([[1, 2, 3, 4],\n",
        "                [5, 6, 7, 8],\n",
        "                [9, 10, 11, 12]])\n",
        "\n",
        "# Access the element at the third row and fourth column\n",
        "element = arr[2, 3]\n",
        "\n",
        "print(\"Element at the third row and fourth column:\", element)"
      ],
      "metadata": {
        "colab": {
          "base_uri": "https://localhost:8080/"
        },
        "id": "Ozbj-YA33ydS",
        "outputId": "2fa8e989-401c-4ab4-c0c7-5717a72864c0"
      },
      "execution_count": null,
      "outputs": [
        {
          "output_type": "stream",
          "name": "stdout",
          "text": [
            "Element at the third row and fourth column: 12\n"
          ]
        }
      ]
    },
    {
      "cell_type": "markdown",
      "source": [
        "6. Write code to extract all odd-indexen elements from the given numpy array?\n",
        "[[1, 2, 3, 4]\n",
        "[5, 6, 7, 8],\n",
        "[9, 10, 11, 12]]\n"
      ],
      "metadata": {
        "id": "iT8Xxe32ysE1"
      }
    },
    {
      "cell_type": "code",
      "source": [
        "import numpy as np\n",
        "\n",
        "# Define the NumPy array\n",
        "arr = np.array([[1, 2, 3, 4],\n",
        "                [5, 6, 7, 8],\n",
        "                [9, 10, 11, 12]])\n",
        "\n",
        "# Extract all odd-indexed elements\n",
        "odd_indexed_elements = arr[:, 1::2]\n",
        "\n",
        "# Driver Code\n",
        "print(\"Odd-indexed elements:\")\n",
        "print(odd_indexed_elements)\n"
      ],
      "metadata": {
        "colab": {
          "base_uri": "https://localhost:8080/"
        },
        "id": "EatDSLX_366v",
        "outputId": "258f9443-d77b-45e4-b6b0-7a97896af129"
      },
      "execution_count": null,
      "outputs": [
        {
          "output_type": "stream",
          "name": "stdout",
          "text": [
            "Odd-indexed elements:\n",
            "[[ 2  4]\n",
            " [ 6  8]\n",
            " [10 12]]\n"
          ]
        }
      ]
    },
    {
      "cell_type": "markdown",
      "source": [
        "7. How can you generate a random 3x3 matrix with values between 0 and 1?\n"
      ],
      "metadata": {
        "id": "ee6d4tF3yueF"
      }
    },
    {
      "cell_type": "markdown",
      "source": [
        "we can generate a random 3x3 matrix with values between 0 and 1 using NumPy's random.rand function. This function creates an array of the given shape with random values sampled from a uniform distribution over the interval [0, 1]."
      ],
      "metadata": {
        "id": "BXqeSAWS4ynz"
      }
    },
    {
      "cell_type": "code",
      "source": [
        "# Generate a random 3x3 matrix with values between 0 and 1\n",
        "random_matrix = np.random.rand(3, 3)\n",
        "\n",
        "print(\"Random 3x3 matrix:\")\n",
        "print(random_matrix)\n"
      ],
      "metadata": {
        "colab": {
          "base_uri": "https://localhost:8080/"
        },
        "id": "ll4rEkAC4gEl",
        "outputId": "7fe0ba74-7c8c-4270-86cc-e2dd1719df1b"
      },
      "execution_count": null,
      "outputs": [
        {
          "output_type": "stream",
          "name": "stdout",
          "text": [
            "Random 3x3 matrix:\n",
            "[[0.15544609 0.08145453 0.37297952]\n",
            " [0.89967328 0.73094069 0.04434312]\n",
            " [0.02446478 0.34983091 0.82072802]]\n"
          ]
        }
      ]
    },
    {
      "cell_type": "markdown",
      "source": [
        "8. Describe the difference between np.random.rand and np.random.randn?\n"
      ],
      "metadata": {
        "id": "_p7mJahSywlB"
      }
    },
    {
      "cell_type": "markdown",
      "source": [
        "np.random.rand:\n",
        "\n",
        "- `numpy.random.rand()`-  in Python is a function from the NumPy library that generates an array of specified shapes and fills it with random values uniformly distributed between 0 and 1. It is commonly used for creating random arrays in various applications such as simulations and machine learning. The function’s output is determined by the shape parameters provided.\n",
        "\n",
        "- Randomly Constructing 1D Array\n",
        "- Randomly Constructing 2D Array\n",
        "- Randomly Constructing 3D Array\n",
        "\n",
        "\n",
        "np.random.randn:\n",
        "\n",
        "- The numpy.random.randn() function creates an array of specified shape and fills it with random values as per standard normal distribution.\n",
        "\n",
        "- It also takes dimensions of the desired output array as input parameters.\n",
        "\n",
        "- If positive arguments are provided, randn generates an array of shape (d0, d1, …, dn), filled with random floats sampled from a univariate “normal” (Gaussian) distribution of mean 0 and variance 1\n",
        "\n",
        "\n"
      ],
      "metadata": {
        "id": "_KE7Zi549oct"
      }
    },
    {
      "cell_type": "code",
      "source": [
        "import numpy as np\n",
        "# Generate a 2x3 array of random numbers between 0 and 1\n",
        "random_array = np.random.rand(2, 3)\n",
        "print(random_array)"
      ],
      "metadata": {
        "colab": {
          "base_uri": "https://localhost:8080/"
        },
        "id": "NudYiV6Z0Err",
        "outputId": "a3e876ad-bc8c-4fba-806e-2656744cd544"
      },
      "execution_count": 3,
      "outputs": [
        {
          "output_type": "stream",
          "name": "stdout",
          "text": [
            "[[0.98851409 0.74402384 0.21297141]\n",
            " [0.59792661 0.21360962 0.46833112]]\n"
          ]
        }
      ]
    },
    {
      "cell_type": "code",
      "source": [
        "import numpy as np\n",
        "# Generate a 2x3 array of random numbers from a standard normal distribution\n",
        "random_array = np.random.randn(2, 3)\n",
        "print(random_array)"
      ],
      "metadata": {
        "colab": {
          "base_uri": "https://localhost:8080/"
        },
        "id": "cM2TX2Ru0Le5",
        "outputId": "6159cc6b-421e-49dd-98f3-92a1008c1393"
      },
      "execution_count": 4,
      "outputs": [
        {
          "output_type": "stream",
          "name": "stdout",
          "text": [
            "[[-1.06173922 -0.34720225 -0.37455087]\n",
            " [-0.73200643  1.32684014 -1.52120737]]\n"
          ]
        }
      ]
    },
    {
      "cell_type": "markdown",
      "source": [
        "9. Write code to increase the dimension of the following array?\n",
        "[[1, 2, 3, 4]\n",
        "[5, 6, 7, 8],\n",
        "[9, 10, 11, 12]]\n"
      ],
      "metadata": {
        "id": "vDLQW71Vyyt5"
      }
    },
    {
      "cell_type": "code",
      "source": [
        "import numpy as np\n",
        "\n",
        "# Given array\n",
        "arr = np.array([[1, 2, 3, 4], [5, 6, 7, 8], [9, 10, 11, 12]])\n",
        "\n",
        "# Increase dimension using np.newaxis\n",
        "new_arr = arr[:, :, np.newaxis]\n",
        "\n",
        "# Or using np.expand_dims()\n",
        "# new_arr = np.expand_dims(arr, axis=2)\n",
        "\n",
        "print(\"Original array shape:\", arr.shape)\n",
        "print(\"New array shape:\", new_arr.shape)\n",
        "print(\"New array:\")\n",
        "print(new_arr)\n"
      ],
      "metadata": {
        "colab": {
          "base_uri": "https://localhost:8080/"
        },
        "id": "gS62D5GuzEso",
        "outputId": "82a51b85-a9e4-4743-d133-14940e2083a5"
      },
      "execution_count": null,
      "outputs": [
        {
          "output_type": "stream",
          "name": "stdout",
          "text": [
            "Original array shape: (3, 4)\n",
            "New array shape: (3, 4, 1)\n",
            "New array:\n",
            "[[[ 1]\n",
            "  [ 2]\n",
            "  [ 3]\n",
            "  [ 4]]\n",
            "\n",
            " [[ 5]\n",
            "  [ 6]\n",
            "  [ 7]\n",
            "  [ 8]]\n",
            "\n",
            " [[ 9]\n",
            "  [10]\n",
            "  [11]\n",
            "  [12]]]\n"
          ]
        }
      ]
    },
    {
      "cell_type": "markdown",
      "source": [
        "10. How to transpose the following array in NumPy?\n",
        "[[1, 2, 3, 4]\n",
        "[5, 6, 7, 8],\n",
        "[9, 10, 11, 12]]\n"
      ],
      "metadata": {
        "id": "GnYC7XGXy1AQ"
      }
    },
    {
      "cell_type": "code",
      "source": [
        "import numpy as np\n",
        "\n",
        "# Given array\n",
        "arr = np.array([[1, 2, 3, 4], [5, 6, 7, 8], [9, 10, 11, 12]])\n",
        "\n",
        "# Transpose the array\n",
        "transposed_arr = np.transpose(arr)\n",
        "# Or transposed_arr = arr.T\n",
        "\n",
        "print(\"Original array:\")\n",
        "print(arr)\n",
        "\n",
        "print(\"\\nTransposed array:\")\n",
        "print(transposed_arr)\n"
      ],
      "metadata": {
        "colab": {
          "base_uri": "https://localhost:8080/"
        },
        "id": "M5aiKs0WzFkF",
        "outputId": "4bd6def4-afa4-4a8e-bf98-b60413f9ea23"
      },
      "execution_count": null,
      "outputs": [
        {
          "output_type": "stream",
          "name": "stdout",
          "text": [
            "Original array:\n",
            "[[ 1  2  3  4]\n",
            " [ 5  6  7  8]\n",
            " [ 9 10 11 12]]\n",
            "\n",
            "Transposed array:\n",
            "[[ 1  5  9]\n",
            " [ 2  6 10]\n",
            " [ 3  7 11]\n",
            " [ 4  8 12]]\n"
          ]
        }
      ]
    },
    {
      "cell_type": "markdown",
      "source": [
        "11. Consider the following matrix:\n",
        "Matrix A2 [[1, 2, 3, 4] [5, 6, 7, 8],[9, 10, 11, 12]]\n",
        "Matrix B2 [[1, 2, 3, 4] [5, 6, 7, 8],[9, 10, 11, 12]]\n",
        "Perform the following operation using Python1\n",
        ",+ I(dex wiLe multiplication'\n",
        "]+ Matix multiplicatio'\n",
        "+ Add both the maticK\n",
        "-+ Subtact matix B om\n",
        "+ Diide Matix B by A\n"
      ],
      "metadata": {
        "id": "jktwdHAXy4RG"
      }
    },
    {
      "cell_type": "code",
      "source": [
        "import numpy as np\n",
        "\n",
        "# Define matrices A2 and B2\n",
        "A2 = np.array([[1, 2, 3, 4], [5, 6, 7, 8], [9, 10, 11, 12]])\n",
        "B2 = np.array([[1, 2, 3, 4], [5, 6, 7, 8], [9, 10, 11, 12]])\n",
        "\n",
        "# Add both matrices\n",
        "add_result = A2 + B2\n",
        "\n",
        "# Subtract matrix B from matrix A\n",
        "subtract_result = A2 - B2\n",
        "\n",
        "# Divide matrix B by matrix A element-wise\n",
        "divide_result = B2 / A2\n",
        "\n",
        "# Drive Code\n",
        "print(\"Addition Result:\")\n",
        "print(add_result)\n",
        "print(\"\\nSubtraction Result:\")\n",
        "print(subtract_result)\n",
        "print(\"\\nDivision Result:\")\n",
        "print(divide_result)\n"
      ],
      "metadata": {
        "colab": {
          "base_uri": "https://localhost:8080/"
        },
        "id": "XqySPxnA4S7P",
        "outputId": "4400135d-e8f0-4d45-9146-c43aa4822576"
      },
      "execution_count": null,
      "outputs": [
        {
          "output_type": "stream",
          "name": "stdout",
          "text": [
            "Addition Result:\n",
            "[[ 2  4  6  8]\n",
            " [10 12 14 16]\n",
            " [18 20 22 24]]\n",
            "\n",
            "Subtraction Result:\n",
            "[[0 0 0 0]\n",
            " [0 0 0 0]\n",
            " [0 0 0 0]]\n",
            "\n",
            "Division Result:\n",
            "[[1. 1. 1. 1.]\n",
            " [1. 1. 1. 1.]\n",
            " [1. 1. 1. 1.]]\n"
          ]
        }
      ]
    },
    {
      "cell_type": "markdown",
      "source": [
        "12. Which function in Numpy can be used to swap the byte order of an array?\n"
      ],
      "metadata": {
        "id": "OqzXExbvy6uf"
      }
    },
    {
      "cell_type": "code",
      "source": [
        "import numpy as np\n",
        "\n",
        "# Create an array\n",
        "arr = np.array([1, 2, 3, 4], dtype=np.int32)\n",
        "print(\"Original array:\")\n",
        "print(arr)\n",
        "\n",
        "# Swap byte order\n",
        "arr.byteswap(True)\n",
        "print(\"Array with byte order swapped:\")\n",
        "print(arr)\n"
      ],
      "metadata": {
        "colab": {
          "base_uri": "https://localhost:8080/"
        },
        "id": "JJBIkSqt4UV4",
        "outputId": "a513fea2-f3db-44ce-acfc-09ccd33d8b82"
      },
      "execution_count": null,
      "outputs": [
        {
          "output_type": "stream",
          "name": "stdout",
          "text": [
            "Original array:\n",
            "[1 2 3 4]\n",
            "Array with byte order swapped:\n",
            "[16777216 33554432 50331648 67108864]\n"
          ]
        }
      ]
    },
    {
      "cell_type": "markdown",
      "source": [
        "- import numpy as np = This line imports the NumPy library and assigns it the alias np, allowing us to refer to NumPy functions and objects using the shorthand np.\n",
        "\n",
        "- arr = np.array([1, 2, 3, 4], dtype=np.int32): This line creates a NumPy array named arr containing the elements [1, 2, 3, 4]. The dtype=np.int32 argument specifies that the data type of the elements in the array should be 32-bit integers.\n",
        "\n",
        "- print(\"Original array:\"): This line prints the string \"Original array:\" to the console.\n",
        "\n",
        "- print(arr): This line prints the contents of the array arr to the console.\n",
        "\n",
        "- arr.byteswap(True): This line swaps the byte order of the elements in the array arr. The argument True specifies that the byte order should be swapped in-place.\n",
        "\n",
        "- print(\"Array with byte order swapped:\"): This line prints the string \"Array with byte order swapped:\" to the console.\n",
        "\n",
        "- print(arr): This line prints the contents of the array arr after the byte order has been swapped."
      ],
      "metadata": {
        "id": "3OMc37GTciBA"
      }
    },
    {
      "cell_type": "markdown",
      "source": [
        "13. What is the significance of the np.linalg.inv function?\n",
        "\n",
        "- Ans :--\n",
        "The np.linalg.inv function in NumPy computes the inverse of a square matrix. This function is significant in various mathematical and computational contexts, including:\n",
        "\n",
        "Solving Systems of Linear Equations: The inverse of a matrix is used to efficiently solve systems of linear equations of the form Ax = b, where A is the coefficient matrix, x is the vector of unknowns, and b is the vector of constants. Instead of solving such equations directly using methods like Gaussian elimination, you can compute the inverse of A (if it exists) and then find x = A^(-1)b.\n",
        "\n",
        "Eigenvalue and Eigenvector Computation: In many numerical algorithms for computing eigenvalues and eigenvectors of a matrix, the inverse of the matrix or its factors may be required.\n",
        "\n",
        "Matrix Manipulation: In various applications such as optimization, statistics, and physics, matrix inversion is a fundamental operation for tasks like least squares fitting, covariance estimation, and solving differential equations."
      ],
      "metadata": {
        "id": "Hwr9w7Bay9n7"
      }
    },
    {
      "cell_type": "markdown",
      "source": [
        "14. What does the np.reshape function of, and how is it used?\n",
        "- Ans - Reshaping numpy array simply means changing the shape of the given array, shape basically tells the number of elements and dimension of array, by reshaping an array we can add or remove dimensions or change number of elements in each dimension.\n",
        "In order to reshape a numpy array we use reshape method with the given array.\n",
        "- We can also use np.reshape(array, shape) command to reshape the array\n",
        "Reshaping : 1-D to 2D\n",
        "\n",
        "- The np.reshape function in NumPy is used to change the shape of an array without changing its data. It allows you to rearrange the elements of an array into a new shape while preserving the total number of elements. This function does not modify the original array; instead, it returns a new array with the specified shape.\n",
        "\n",
        "- import numpy as np\n",
        "\n",
        "- Create a one-dimensional array\n",
        "- arr = np.array([1, 2, 3, 4, 5, 6])\n",
        "\n",
        "- Reshape the array into a 2x3 matrix\n",
        "\n",
        "- reshaped_arr = np.reshape(arr, (2, 3))\n",
        "\n",
        "- print(reshaped_arr)\n"
      ],
      "metadata": {
        "id": "sb9Xo34sy9wQ"
      }
    },
    {
      "cell_type": "markdown",
      "source": [
        "15. What is broadcasting in Numpy?"
      ],
      "metadata": {
        "id": "O-LMCb3YzC8-"
      }
    },
    {
      "cell_type": "markdown",
      "source": [
        "Ans- In NumPy, broadcasting refers to the ability of arrays with different shapes to be used together in element-wise operations. When operating on arrays of different shapes, NumPy automatically broadcasts the smaller array over the larger one so that they have compatible shapes for the operation.\n",
        "\n",
        "Here are the rules for broadcasting:\n",
        "\n",
        "1. If the arrays do not have the same rank (number of dimensions), then the shape of the array with fewer dimensions is padded with ones on its left side.\n",
        "\n",
        "2. If the shape of the two arrays does not match in any dimension, the array with shape equal to 1 in that dimension is stretched to match the other shape.\n",
        "\n",
        "3. If in any dimension the sizes disagree and neither is equal to 1, an error is raised.\n",
        "\n",
        "4. Broadcasting allows for efficient vectorized operations, avoiding the need for explicit looping over array elements. This makes code cleaner and more concise."
      ],
      "metadata": {
        "id": "Tz-OgiVNzGQc"
      }
    }
  ]
}